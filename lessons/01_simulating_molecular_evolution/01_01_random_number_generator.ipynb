{
 "cells": [
  {
   "attachments": {
    "500px-Uniform_Distribution_PDF_SVG.svg.png": {
     "image/png": "[encoded data removed]"
    }
   },
   "cell_type": "markdown",
   "metadata": {
    "slideshow": {
     "slide_type": "-"
    }
   },
   "source": [
    "# Module 1, Lesson 1: Random number generator\n",
    "\n",
    "See slides for background information about\n",
    "  * Stochastic simulation\n",
    "  * uniform distribution\n",
    "  * hardware random number generators\n",
    "  * pseudo-random numbers\n",
    "  * Random number seed\n",
    "\n",
    "\n",
    "<!-- ![alt](https://www.astroml.org/_images/fig_uniform_distribution_1.png) -->\n",
    "\n",
    "## Uniform distribution\n",
    "\n",
    "The uniform distribution is a rectangular and symmetrical distribution bound by two arbitrary numbers $a$ and $b$. This distribution is often denoted as $U(a,b)$. For the purposes of this module, we will be focussing on the uniform distribution bound between 0 and 1, denoted as $U(0,1)$. The mean of  $U(0,1)$ is defined as $(\\frac{1}{2})$ and the variance is defined as $(\\frac{1}{12})$.\n",
    "\n",
    "\n",
    "<!-- ![alt](https://upload.wikimedia.org/wikipedia/commons/thumb/9/96/Uniform_Distribution_PDF_SVG.svg/500px-Uniform_Distribution_PDF_SVG.svg.png) -->\n",
    "![500px-Uniform_Distribution_PDF_SVG.svg.png](attachment:500px-Uniform_Distribution_PDF_SVG.svg.png)\n",
    "\n",
    "\n",
    "\n",
    "\n",
    "## Pseudo-random number generator\n",
    "\n",
    "\n",
    "Random variables from the uniform distribution $U(0,1)$ are called _random numbers_ (i.e. the _random number_ $u$ drawn from the. uniform distribution is denoted as $u ~ U(0,1)$). A _pseudo-random number generator_ is a deterministic mathematical method to generate a sequence of numbers between 0 and 1 that appear to be random. The numbers are not truely random, however, because they are generated via a deterministic process.\n",
    "\n",
    "### Multiplication-congruential method\n",
    "\n",
    "The _multiplication-congruential method_ is one approach to generate a sequence of numbers between 0 and 1.\n",
    "$$ A_{i} = cA_{i-1} mod M $$\n",
    "\n",
    "In this equation, $A_{i}$, $c$, and $M$ are all positive integers. The multiplier is $c$, the remainder when $a$ is divided by M is a mod M (in python this would be ```a%M```), the position or index in the sequence is denoted by $i$. Thus, the initial value would be $A_{0}$, and is referred to as the _seed_.\n",
    "\n",
    "$$ui = \\frac{A_{i}}{M}$$\n",
    "\n",
    "Dividing $A_{i}$ by $M$ will produce a number between 0 and 1, denoted as $u_{i}$.\n",
    "\n",
    "First we'll start with the modulus ($M$) of 10,000, a multiplier ($c$) of 13, and an initial seed $A_{0}$ of 123 to calculate $u_{1}$"
   ]
  },
  {
   "cell_type": "code",
   "execution_count": 2,
   "metadata": {
    "slideshow": {
     "slide_type": "slide"
    }
   },
   "outputs": [
    {
     "name": "stdout",
     "output_type": "stream",
     "text": [
      "1599 0.1599\n"
     ]
    }
   ],
   "source": [
    "\n",
    "M = 10000 # modulus\n",
    "c = 13 # increment\n",
    "A0 = 123 \n",
    "u0 = A0/M\n",
    "A1 = ((c*A0)%M)\n",
    "u1 = A1/M\n",
    "print(A1,u1)\n",
    "\n"
   ]
  },
  {
   "cell_type": "markdown",
   "metadata": {
    "slideshow": {
     "slide_type": "slide"
    }
   },
   "source": [
    "Next, we'll use a for loop to print $u_{i}$ for values of $i$ up to 9.\n",
    "\n",
    "\n",
    "<!-- $${\\displaystyle X_{n+1}=\\left(aX_{n}+c\\right){\\bmod {m}}}{\\displaystyle X_{n+1}=\\left(aX_{n}+c\\right){\\bmod {m}}}$$\n",
    " -->\n"
   ]
  },
  {
   "cell_type": "code",
   "execution_count": 5,
   "metadata": {
    "slideshow": {
     "slide_type": "slide"
    }
   },
   "outputs": [
    {
     "name": "stdout",
     "output_type": "stream",
     "text": [
      "i: 1 ui: 0.1599\n",
      "i: 2 ui: 0.0787\n",
      "i: 3 ui: 0.0231\n",
      "i: 4 ui: 0.3003\n",
      "i: 5 ui: 0.9039\n",
      "i: 6 ui: 0.7507\n",
      "i: 7 ui: 0.7591\n",
      "i: 8 ui: 0.8683\n",
      "i: 9 ui: 0.2879\n"
     ]
    }
   ],
   "source": [
    "A0 = 123\n",
    "Ai = A0\n",
    "for i in range(1,10):\n",
    "    Ai = (c * Ai)%M\n",
    "    ui = Ai / M\n",
    "    print(\"i:\",i,\"ui:\",ui)\n",
    "#     A.append(Ai)\n",
    "# print([Ai/M for Ai in A])"
   ]
  },
  {
   "cell_type": "markdown",
   "metadata": {
    "slideshow": {
     "slide_type": "slide"
    }
   },
   "source": [
    "## Worked exercise\n",
    "1. Make a function to construct array u of length N given c = 13,A0 = 123, M = 10000"
   ]
  },
  {
   "cell_type": "code",
   "execution_count": 6,
   "metadata": {
    "slideshow": {
     "slide_type": "slide"
    }
   },
   "outputs": [
    {
     "name": "stdout",
     "output_type": "stream",
     "text": [
      "[0.0123, 0.1599, 0.0787, 0.0231, 0.3003, 0.9039, 0.7507, 0.7591, 0.8683, 0.2879]\n"
     ]
    }
   ],
   "source": [
    "def multCongN(c,A0,M,N):\n",
    "    A = [A0]\n",
    "    u = [A0/M]\n",
    "    for i in range(1,N):\n",
    "        Ai = (c * A[i-1])%M\n",
    "        ui = Ai/M\n",
    "        A.append(Ai)\n",
    "        u.append(ui)\n",
    "    return u\n",
    "print(multCongN(13,123,10000,10))\n"
   ]
  },
  {
   "cell_type": "markdown",
   "metadata": {},
   "source": [
    "### Exercise on your own: test the randomness\n",
    "\n",
    "The numbers generated by ```multCongN``` appear random, but after a certain point they would start to repeat themselves. You can play around with various values of $c$, $A_{0}$, and $M$ to see how the sequence changes. To test how seemingly random these numbers are you can do three things.\n",
    "\n",
    "1. Make sure the mean is approximately $(\\frac{1}{2})$\n",
    "    * Convert list to numpy array ```np.array(name_of_list)```\n",
    "    * Calculate mean ```np.mean(np.array(name_of_list))```\n",
    "2. Make sure the variance is approximately $(\\frac{1}{12})$\n",
    "    * Calculate variance ```np.var(np.array(name_of_list))```\n",
    "3. Make sure the values are not auto correlated. $R^2$ is approximately 0.\n",
    "    * i.e the first 30 values shouldn't be correlated with the next 30 using the function ```calcRsquared```\n",
    "    "
   ]
  },
  {
   "cell_type": "code",
   "execution_count": 7,
   "metadata": {},
   "outputs": [
    {
     "name": "stdout",
     "output_type": "stream",
     "text": [
      "mean: 0.5218333333333333\n",
      "variance: 0.07792428888888889\n",
      "r-squared: 0.04627776896137083\n"
     ]
    }
   ],
   "source": [
    "import numpy as np\n",
    "\n",
    "def calcRsquared(list1,list2):\n",
    "    \n",
    "    correlation_matrix = np.corrcoef(list1, list2)\n",
    "    correlation_xy = correlation_matrix[0,1]\n",
    "    r_squared = correlation_xy**2\n",
    "    return r_squared\n",
    "\n",
    "sixty_u = multCongN(13,123,10000,60)\n",
    "sixty_u_np = np.array(sixty_u)\n",
    "\n",
    "sixty_u_first30 = sixty_u[:30]\n",
    "sixty_u_lastst30 = sixty_u[30:]\n",
    "\n",
    "print(\"mean:\", np.mean(sixty_u_np))\n",
    "print(\"variance:\", np.var(sixty_u_np))\n",
    "print(\"r-squared:\", calcRsquared(sixty_u_first30,sixty_u_lastst30))"
   ]
  },
  {
   "cell_type": "markdown",
   "metadata": {},
   "source": [
    "## random number seed and built in random number generators\n",
    "\n",
    "Luckily, python has already done the hard work of constructing a pseudo-random number generator that does an excellent job of generating numbers that are as seemingly random as possible using the ```random.random()``` function. The seed for this function is typically the number of seconds that has passed since 00:00:00, 1, January 1970. For purposes of reproducibility, when conducting a simulation it is often nice to use the same seed, this can be done by setting ```random.seed(n)``` to any positive integer n that you wish so that when someone else runs your program, they will have the same outcome."
   ]
  },
  {
   "cell_type": "code",
   "execution_count": 1,
   "metadata": {},
   "outputs": [
    {
     "data": {
      "text/plain": [
       "0.8308161108852922"
      ]
     },
     "execution_count": 1,
     "metadata": {},
     "output_type": "execute_result"
    }
   ],
   "source": [
    "import random\n",
    "random.random()\n",
    "# play around with seed"
   ]
  }
 ],
 "metadata": {
  "kernelspec": {
   "display_name": "Python 3",
   "language": "python",
   "name": "python3"
  },
  "language_info": {
   "codemirror_mode": {
    "name": "ipython",
    "version": 3
   },
   "file_extension": ".py",
   "mimetype": "text/x-python",
   "name": "python",
   "nbconvert_exporter": "python",
   "pygments_lexer": "ipython3",
   "version": "3.6.8"
  }
 },
 "nbformat": 4,
 "nbformat_minor": 4
}
