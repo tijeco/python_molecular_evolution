{
 "cells": [
  {
   "cell_type": "markdown",
   "metadata": {},
   "source": [
    "# Module 1, Lesson 4: Simulation of Markov processes\n",
    "\n",
    "\n",
    "\n",
    "To be covered in the slides\n",
    "\n",
    "* Markov processes\n",
    "\n",
    "\n",
    "\n",
    "\n",
    "## Discrete-time simulation of nucleotide substitution under the K80 model\n",
    "The evolution of a nucleotide sequence is described by a discrete-time Markov chain with transition probabilities between T,C,A,G given in Equation 12.37\n",
    "\n",
    "$$ P = \\begin{bmatrix} 1-(\\alpha + 2\\beta) & \\alpha & \\beta & \\beta\\\\ \\alpha &  1-(\\alpha + 2\\beta) & \\beta & \\beta\\\\ \\beta & \\beta & 1-(\\alpha + 2\\beta) & \\alpha\\\\ \\beta & \\beta & \\alpha & 1-(\\alpha + 2\\beta) \\end{bmatrix}$$\n",
    "\n",
    "### Guided exercise\n",
    "Write function that populates probability matrix given alpha and beta for a given model"
   ]
  },
  {
   "cell_type": "code",
   "execution_count": 23,
   "metadata": {},
   "outputs": [
    {
     "name": "stdout",
     "output_type": "stream",
     "text": [
      "              T             C             A             G\n",
      "T  1.000000e+00  1.000000e-08  1.000000e-09  1.000000e-09\n",
      "C  1.000000e-08  1.000000e+00  1.000000e-09  1.000000e-09\n",
      "A  1.000000e-09  1.000000e-09  1.000000e+00  1.000000e-08\n",
      "G  1.000000e-09  1.000000e-09  1.000000e-08  1.000000e+00\n"
     ]
    }
   ],
   "source": [
    "import pandas as pd\n",
    "\n",
    "alpha = 1e-8\n",
    "beta = 1e-9\n",
    "\n",
    "def k80matrix(alpha,beta):\n",
    "    nucleotide_matrix = {\"T\":[],\"C\":[],\"A\":[],\"G\":[]}\n",
    "    nucleotide_molecule = {\"CT\":\"pyramidine\",\"AG\":\"purine\"}\n",
    "    nucleotide_columns = [\"T\",\"C\",\"A\",\"G\"]\n",
    "    for nucleotide in nucleotide_matrix:\n",
    "        for nucleotide_row in nucleotide_columns:\n",
    "            nucleotide_pair_sorted = ''.join(sorted(nucleotide + nucleotide_row))\n",
    "            if nucleotide == nucleotide_row:\n",
    "                nucleotide_matrix[nucleotide].append(1 -(alpha + 2*beta))\n",
    "            elif nucleotide_pair_sorted in nucleotide_molecule:\n",
    "                nucleotide_matrix[nucleotide].append(alpha)\n",
    "            else:\n",
    "                nucleotide_matrix[nucleotide].append(beta)\n",
    "    return pd.DataFrame.from_dict(nucleotide_matrix, orient='index', columns = nucleotide_columns)\n",
    "\n",
    "print(k80matrix(alpha,beta))"
   ]
  },
  {
   "cell_type": "markdown",
   "metadata": {},
   "source": [
    "### Guided excersise \n",
    "Given a sequence ( or randomly generated), 'evolve' every site for time $t$. The columns in ```k80matrix()``` allow us to do this using a similiar approach to sampling nucleotides from 1.2."
   ]
  },
  {
   "cell_type": "code",
   "execution_count": 22,
   "metadata": {},
   "outputs": [
    {
     "name": "stdout",
     "output_type": "stream",
     "text": [
      "ATGGAAAATGATGAGTTATAA\n"
     ]
    }
   ],
   "source": [
    "import numpy as np\n",
    "import random \n",
    "seq = \"ATGGAAAATGATGAGTTATAA\"\n",
    "\n",
    "def evolveSeq(seq,substitution_matrix):\n",
    "    new_seq = \"\"\n",
    "\n",
    "    for nucleotide in seq:\n",
    "        nucleotide_probabilities = substitution_matrix[nucleotide]\n",
    "        cdf = np.zeros(4)\n",
    "        for i in range(len(nucleotide_probabilities)):\n",
    "            cdf[i] = nucleotide_probabilities[i] + cdf[i -1]\n",
    "        \n",
    "        u = random.random()\n",
    "        for i in range(len(cdf)):\n",
    "            if u < cdf[i]:\n",
    "                new_seq += substitution_matrix.columns[i]\n",
    "                break\n",
    "            else:\n",
    "                continue\n",
    "    return new_seq\n",
    "print(evolveSeq(seq,k80matrix(alpha,beta)))"
   ]
  },
  {
   "cell_type": "markdown",
   "metadata": {},
   "source": [
    "### On your own\n",
    "\n",
    "Write a function that expands ```evolveSeq()```  over $t$ generations"
   ]
  },
  {
   "cell_type": "markdown",
   "metadata": {},
   "source": [
    "The distance between two sequences separated by time $t$ is\n",
    "$$ d = (\\alpha +2\\beta)t$$\n",
    "\n",
    "The transition/transversion ratio is\n",
    "$$ \\kappa = \\frac{\\alpha}{\\beta}$$\n",
    "\n",
    "There are thus three distinct substitution probabilities that will be further discussed in module 2, namely $p_0(t)$, $p_1(t)$, and $p_2(t)$.\n",
    "\n",
    "Simulating the Markov chain in $t$ steps can thus be accomplished in one step with the following equations.\n",
    "\n",
    "$$ p_0(t) = \\frac{1}{4} + \\frac{1}{4}e^{\\frac{-4d}{\\kappa + 2}} + \\frac{1}{2}e^{\\frac{-2d(\\kappa +1)}{\\kappa + 2}}$$\n",
    "\n",
    "$$ p_1(t) = \\frac{1}{4} + \\frac{1}{4}e^{\\frac{-4d}{\\kappa + 2}} - \\frac{1}{2}e^{\\frac{-2d(\\kappa +1)}{\\kappa + 2}}$$\n",
    "\n",
    "$$ p_2(t) = \\frac{1}{4} - \\frac{1}{4}e^{\\frac{-4d}{\\kappa + 2}} $$\n",
    "\n",
    "<!--\n",
    "Equation 12.37\n",
    "Equation 12.38\n",
    "Equation 12.39\n",
    "\n",
    "Generate random nucleotide sequence.\n",
    "Evolve every site over 10 MY\n",
    "\n",
    "\n",
    "\n",
    "## Simulation of continuous-time Markov chains\n",
    "\n",
    "\n",
    "Equation 12.40\n",
    "Equation 12.41\n",
    "\n",
    "### Simulating a Markov chain over time t_{0} by using the exponential waiting times\n",
    "\n",
    "Step 1. Set t= 0. i = X(0)\n",
    "Step 2. u ~(0,1), s <- - (1/qi)log(u)\n",
    "Step 3. Set t <- t + s. If t > t0, stop\n",
    "Step 4. Sample new state j from discrete distribution specified by ith row of equation 112.41\n",
    "Step 5. Go to step 2. -->"
   ]
  },
  {
   "cell_type": "code",
   "execution_count": null,
   "metadata": {},
   "outputs": [],
   "source": [
    "import numpy as np\n",
    "def p0(t,alpha,beta):\n",
    "    d = (alpha + 2 *beta ) * t\n",
    "    k = alpha / beta\n",
    "    return (1/4) + (1/4) * np.exp((-4 *d)/(k + 2)) + (1/2) * np.exp((-2*d * (k+1))/(k+2))\n",
    "def p1(t,alpha,beta):\n",
    "    d = (alpha + 2 *beta ) * t\n",
    "    k = alpha / beta\n",
    "    return (1/4) + (1/4) * np.exp((-4 *d)/(k + 2)) - (1/2) * np.exp((-2*d * (k+1))/(k+2))\n",
    "def p2(t,alpha,beta):\n",
    "    d = (alpha + 2 *beta ) * t\n",
    "    k = alpha / beta\n",
    "    return (1/4) - (1/4) * np.exp((-4 *d)/(k + 2))\n",
    "    "
   ]
  },
  {
   "cell_type": "markdown",
   "metadata": {},
   "source": [
    "## On your own\n",
    "\n",
    "Write a function that uses ```p0()```,```p1()```,```p2()``` to evolve a pair of sequnces for t = 1 Million generations."
   ]
  },
  {
   "cell_type": "code",
   "execution_count": null,
   "metadata": {},
   "outputs": [],
   "source": []
  }
 ],
 "metadata": {
  "kernelspec": {
   "display_name": "Python 3",
   "language": "python",
   "name": "python3"
  },
  "language_info": {
   "codemirror_mode": {
    "name": "ipython",
    "version": 3
   },
   "file_extension": ".py",
   "mimetype": "text/x-python",
   "name": "python",
   "nbconvert_exporter": "python",
   "pygments_lexer": "ipython3",
   "version": "3.6.8"
  }
 },
 "nbformat": 4,
 "nbformat_minor": 2
}
