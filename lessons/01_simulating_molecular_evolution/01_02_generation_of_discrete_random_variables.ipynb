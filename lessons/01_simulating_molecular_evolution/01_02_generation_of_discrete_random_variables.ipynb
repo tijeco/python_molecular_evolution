{
 "cells": [
  {
   "cell_type": "markdown",
   "metadata": {},
   "source": [
    "# Module 1, Lesson 2: Generation of discrete random variables\n",
    "\n",
    "See slides for information about\n",
    "* probability mass function\n",
    "* Cumulative distribution function\n",
    "* Discrete uniform distribution\n",
    "\n",
    "\n",
    "## Inversion method for sampling from a general discrete distribution\n",
    "\n",
    "$$ Pr{X = x_{i}} = p_{i}, i = 1,2,..., $$\n",
    "Cumulative distribution function (CDF)\n",
    "$$ F_{i} = Pr{X = x_{i}} = p_{1} + p_{2} + ... + p_{i} $$\n",
    "\n",
    "Figure 12.1\n",
    "\n",
    "Sample nucleotide at random using probabilities 0.1, 0.2, 0.3, 0.4 for T,C,A,G respectively. Below is a visualization of how the nuleotides will be sampled."
   ]
  },
  {
   "cell_type": "code",
   "execution_count": 2,
   "metadata": {},
   "outputs": [
    {
     "data": {
      "image/png": "[encoded data removed]",
      "text/plain": [
       "<Figure size 432x288 with 1 Axes>"
      ]
     },
     "metadata": {
      "needs_background": "light"
     },
     "output_type": "display_data"
    }
   ],
   "source": [
    "%matplotlib inline\n",
    "import pylab as py\n",
    "\n",
    "data = [[\"T\", 0,    0], \n",
    "        [\"C\", 0.2,  0], \n",
    "        [\"A\", 0.45, 0], \n",
    "        [\"G\", 0.7,  0]]\n",
    "\n",
    "for item in data:\n",
    "    py.scatter(item[1], item[2], s=700,\n",
    "               \n",
    "           \n",
    "           marker=r\"$ {} $\".format(item[0]), edgecolors='none' )\n",
    "    py.axvline(x=0.1)\n",
    "    py.axvline(x=0.3)\n",
    "    py.axvline(x=0.6)\n",
    "\n",
    "py.show()"
   ]
  },
  {
   "cell_type": "markdown",
   "metadata": {},
   "source": [
    "We will first make a ```nucleotides``` list and a ```nucleotide_probabilities``` list. Then we can generate the CDF list.\n",
    "\n"
   ]
  },
  {
   "cell_type": "code",
   "execution_count": 3,
   "metadata": {},
   "outputs": [
    {
     "name": "stdout",
     "output_type": "stream",
     "text": [
      "cdf: [0.1 0.3 0.6 1. ]\n"
     ]
    }
   ],
   "source": [
    "import numpy as np\n",
    "nucleotides = [\"T\",\"C\",\"A\",\"G\"]\n",
    "nucleotide_probabilities = [0.1,0.2,0.3,0.4]\n",
    "cdf = np.zeros(4)\n",
    "for i in range(len(nucleotide_probabilities)):\n",
    "  cdf[i] = nucleotide_probabilities[i] + cdf[i -1]\n",
    "print(\"cdf:\",cdf)\n",
    "# [0.1,0.3,0.6,1.0]"
   ]
  },
  {
   "cell_type": "markdown",
   "metadata": {},
   "source": [
    "Now define a function that samples a random nucleotide"
   ]
  },
  {
   "cell_type": "code",
   "execution_count": 4,
   "metadata": {},
   "outputs": [
    {
     "name": "stdout",
     "output_type": "stream",
     "text": [
      "u: 0.16229241314800114\n",
      "nucleotide: C\n"
     ]
    }
   ],
   "source": [
    "\n",
    "def random_nucleotide(nucleotides,nucleotide_probabilities,cdf):\n",
    "    u = np.random.uniform()\n",
    "    print(\"u:\",u)\n",
    "    for i in range(len(cdf)):\n",
    "      if u < cdf[i]:\n",
    "        nucleotide = nucleotides[i]\n",
    "        break     \n",
    "    return nucleotide\n",
    "print(\"nucleotide:\",random_nucleotide(nucleotides,nucleotide_probabilities,cdf))\n"
   ]
  },
  {
   "cell_type": "markdown",
   "metadata": {},
   "source": [
    "### On your own\n",
    "\n",
    "Write a function to generate a random sequence of DNA of length N for any given nucleotide probabilities\n"
   ]
  },
  {
   "cell_type": "code",
   "execution_count": 27,
   "metadata": {},
   "outputs": [],
   "source": [
    "def random_dna(N,nucleotide_probabilities):\n",
    "    \n",
    "    return dna"
   ]
  },
  {
   "cell_type": "markdown",
   "metadata": {},
   "source": [
    "## Poisson distribution\n",
    "\n",
    "This measures the probability that a certain number of events $x$ (only positive integers) occur given an expected rate of occurence $λ$ (any positive real number).\n",
    "\n",
    "Random variable $X$ is Poisson distributed with mean $λ$ if\n",
    "$$ p_{x} = Pr(X = x) = \\frac{e^{-λ} λ^x }{x!}, x =0,1, ..., $$"
   ]
  },
  {
   "cell_type": "markdown",
   "metadata": {},
   "source": [
    "## Guided exercise\n",
    "Make a function for poisson equation"
   ]
  },
  {
   "cell_type": "code",
   "execution_count": 7,
   "metadata": {},
   "outputs": [
    {
     "ename": "NameError",
     "evalue": "name 'factorial' is not defined",
     "output_type": "error",
     "traceback": [
      "\u001b[0;31m---------------------------------------------------------------------------\u001b[0m",
      "\u001b[0;31mNameError\u001b[0m                                 Traceback (most recent call last)",
      "\u001b[0;32m<ipython-input-7-9f67a05f4e6d>\u001b[0m in \u001b[0;36m<module>\u001b[0;34m\u001b[0m\n\u001b[1;32m      8\u001b[0m     \u001b[0;32mreturn\u001b[0m \u001b[0mx\u001b[0m\u001b[0;34m,\u001b[0m\u001b[0my\u001b[0m\u001b[0;34m\u001b[0m\u001b[0;34m\u001b[0m\u001b[0m\n\u001b[1;32m      9\u001b[0m \u001b[0;31m# print(poisson_n(1,20))\u001b[0m\u001b[0;34m\u001b[0m\u001b[0;34m\u001b[0m\u001b[0;34m\u001b[0m\u001b[0m\n\u001b[0;32m---> 10\u001b[0;31m \u001b[0mpoisson1_x\u001b[0m\u001b[0;34m,\u001b[0m \u001b[0mpoisson1_y\u001b[0m \u001b[0;34m=\u001b[0m \u001b[0mpoisson_n\u001b[0m\u001b[0;34m(\u001b[0m\u001b[0;36m1\u001b[0m\u001b[0;34m,\u001b[0m\u001b[0;36m20\u001b[0m\u001b[0;34m)\u001b[0m\u001b[0;34m\u001b[0m\u001b[0;34m\u001b[0m\u001b[0m\n\u001b[0m\u001b[1;32m     11\u001b[0m \u001b[0mpoisson5_x\u001b[0m\u001b[0;34m,\u001b[0m \u001b[0mpoisson5_y\u001b[0m \u001b[0;34m=\u001b[0m \u001b[0mpoisson_n\u001b[0m\u001b[0;34m(\u001b[0m\u001b[0;36m5\u001b[0m\u001b[0;34m,\u001b[0m\u001b[0;36m20\u001b[0m\u001b[0;34m)\u001b[0m\u001b[0;34m\u001b[0m\u001b[0;34m\u001b[0m\u001b[0m\n\u001b[1;32m     12\u001b[0m \u001b[0mpoisson10_x\u001b[0m\u001b[0;34m,\u001b[0m \u001b[0mpoisson10_y\u001b[0m \u001b[0;34m=\u001b[0m \u001b[0mpoisson_n\u001b[0m\u001b[0;34m(\u001b[0m\u001b[0;36m10\u001b[0m\u001b[0;34m,\u001b[0m\u001b[0;36m20\u001b[0m\u001b[0;34m)\u001b[0m\u001b[0;34m\u001b[0m\u001b[0;34m\u001b[0m\u001b[0m\n",
      "\u001b[0;32m<ipython-input-7-9f67a05f4e6d>\u001b[0m in \u001b[0;36mpoisson_n\u001b[0;34m(λ, n)\u001b[0m\n\u001b[1;32m      5\u001b[0m \u001b[0;32mdef\u001b[0m \u001b[0mpoisson_n\u001b[0m\u001b[0;34m(\u001b[0m\u001b[0mλ\u001b[0m\u001b[0;34m,\u001b[0m\u001b[0mn\u001b[0m\u001b[0;34m)\u001b[0m\u001b[0;34m:\u001b[0m\u001b[0;34m\u001b[0m\u001b[0;34m\u001b[0m\u001b[0m\n\u001b[1;32m      6\u001b[0m     \u001b[0mx\u001b[0m \u001b[0;34m=\u001b[0m \u001b[0mnp\u001b[0m\u001b[0;34m.\u001b[0m\u001b[0marange\u001b[0m\u001b[0;34m(\u001b[0m\u001b[0;36m0\u001b[0m\u001b[0;34m,\u001b[0m \u001b[0mn\u001b[0m\u001b[0;34m,\u001b[0m \u001b[0;36m1\u001b[0m\u001b[0;34m)\u001b[0m\u001b[0;34m\u001b[0m\u001b[0;34m\u001b[0m\u001b[0m\n\u001b[0;32m----> 7\u001b[0;31m     \u001b[0my\u001b[0m \u001b[0;34m=\u001b[0m \u001b[0mnp\u001b[0m\u001b[0;34m.\u001b[0m\u001b[0mexp\u001b[0m\u001b[0;34m(\u001b[0m\u001b[0;34m-\u001b[0m\u001b[0mλ\u001b[0m\u001b[0;34m)\u001b[0m\u001b[0;34m*\u001b[0m\u001b[0mnp\u001b[0m\u001b[0;34m.\u001b[0m\u001b[0mpower\u001b[0m\u001b[0;34m(\u001b[0m\u001b[0mλ\u001b[0m\u001b[0;34m,\u001b[0m \u001b[0mx\u001b[0m\u001b[0;34m)\u001b[0m\u001b[0;34m/\u001b[0m\u001b[0mfactorial\u001b[0m\u001b[0;34m(\u001b[0m\u001b[0mx\u001b[0m\u001b[0;34m)\u001b[0m\u001b[0;34m\u001b[0m\u001b[0;34m\u001b[0m\u001b[0m\n\u001b[0m\u001b[1;32m      8\u001b[0m     \u001b[0;32mreturn\u001b[0m \u001b[0mx\u001b[0m\u001b[0;34m,\u001b[0m\u001b[0my\u001b[0m\u001b[0;34m\u001b[0m\u001b[0;34m\u001b[0m\u001b[0m\n\u001b[1;32m      9\u001b[0m \u001b[0;31m# print(poisson_n(1,20))\u001b[0m\u001b[0;34m\u001b[0m\u001b[0;34m\u001b[0m\u001b[0;34m\u001b[0m\u001b[0m\n",
      "\u001b[0;31mNameError\u001b[0m: name 'factorial' is not defined"
     ]
    }
   ],
   "source": [
    "%matplotlib inline\n",
    "\n",
    "from scipy.special import factorial\n",
    "\n",
    "def poisson_n(λ,n):\n",
    "    x = np.arange(0, n, 1)\n",
    "    y = np.exp(-λ)*np.power(λ, x)/factorial(x)\n",
    "    return x,y\n",
    "# print(poisson_n(1,20))\n",
    "poisson1_x, poisson1_y = poisson_n(1,20)\n",
    "poisson5_x, poisson5_y = poisson_n(5,20)\n",
    "poisson10_x, poisson10_y = poisson_n(10,20)\n",
    "\n",
    "plt.plot(poisson1_x,poisson1_y,'-bs',label=\"λ=1\")\n",
    "plt.plot(poisson5_x,poisson5_y,'-gs',label=\"λ=5\")\n",
    "plt.plot(poisson10_x,poisson10_y,'-ks',label=\"λ=10\")\n",
    "plt.xticks(range(20))\n",
    "plt.legend()\n",
    "plt.show()"
   ]
  },
  {
   "cell_type": "markdown",
   "metadata": {},
   "source": [
    "Mean = Variance = λ = $E(X) = V(X)$\n",
    "\n",
    "\n",
    "\n",
    "### Inversion method for generating Poisson variates with rate λ\n",
    "\n",
    "1. Generate a random number $u$\n",
    "2. Set $x=0$, $F = p = e^(λ)$\n",
    "3. If $u < F$, set $X <-- x$, and stop\n",
    "4. Set $p <-- pλ/(x+1)$,$F <-- F +p$, and $x <-- x + 1$. $F$ is now $F_{x+1}$\n",
    "5. Go to step 3.\n",
    "\n",
    "Here $F$ records the CDF"
   ]
  },
  {
   "cell_type": "code",
   "execution_count": 7,
   "metadata": {},
   "outputs": [
    {
     "name": "stdout",
     "output_type": "stream",
     "text": [
      "u 0.30319639314864755\n",
      "6\n"
     ]
    }
   ],
   "source": [
    "def inversion_poisson(λ):\n",
    "    u = np.random.uniform()\n",
    "    print(\"u\",u)\n",
    "    x = 0\n",
    "    F = np.exp(-λ)\n",
    "    while True:\n",
    "        if u < F:\n",
    "            X = x\n",
    "            return X\n",
    "        else:\n",
    "            p = F * (λ/(x+1))\n",
    "            F = F + p \n",
    "            x += 1\n",
    "    \n",
    "\n",
    "\n",
    "\n",
    "  # cdf = np.zeros(4)\n",
    "  # cdf[0] =\n",
    "  #return X\n",
    "\n",
    "print(inversion_poisson(10))\n"
   ]
  },
  {
   "cell_type": "markdown",
   "metadata": {},
   "source": [
    "## On your own\n",
    "Write a function to generate a list of poisson variables of length N for a given λ, using numpy's ```np.random.poisson```\n",
    "Check the mean to make sure λ = mean = variance"
   ]
  },
  {
   "cell_type": "code",
   "execution_count": 5,
   "metadata": {},
   "outputs": [
    {
     "data": {
      "image/png": "[encoded data removed]",
      "text/plain": [
       "<Figure size 432x288 with 1 Axes>"
      ]
     },
     "metadata": {
      "needs_background": "light"
     },
     "output_type": "display_data"
    }
   ],
   "source": [
    "%matplotlib inline\n",
    "import numpy as np\n",
    "import matplotlib.pyplot as plt\n",
    "s = np.random.poisson(5, 10000)\n",
    "\n",
    "count, bins, ignored = plt.hist(s, 14, density=True)\n",
    "plt.show()"
   ]
  },
  {
   "cell_type": "code",
   "execution_count": null,
   "metadata": {},
   "outputs": [],
   "source": []
  }
 ],
 "metadata": {
  "kernelspec": {
   "display_name": "Python 3",
   "language": "python",
   "name": "python3"
  },
  "language_info": {
   "codemirror_mode": {
    "name": "ipython",
    "version": 3
   },
   "file_extension": ".py",
   "mimetype": "text/x-python",
   "name": "python",
   "nbconvert_exporter": "python",
   "pygments_lexer": "ipython3",
   "version": "3.6.8"
  }
 },
 "nbformat": 4,
 "nbformat_minor": 2
}
