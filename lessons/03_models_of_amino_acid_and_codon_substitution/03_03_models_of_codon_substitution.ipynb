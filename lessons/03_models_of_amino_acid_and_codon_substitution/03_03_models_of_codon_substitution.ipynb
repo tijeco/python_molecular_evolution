{
 "cells": [
  {
   "cell_type": "markdown",
   "metadata": {},
   "source": [
    "# Module 3, Lesson 3: Models of codon substitution\n",
    "\n",
    "\n",
    "Standard genetic code"
   ]
  },
  {
   "cell_type": "code",
   "execution_count": 20,
   "metadata": {},
   "outputs": [],
   "source": [
    "aaDict = {    'A': ['GCT', 'GCC', 'GCA', 'GCG'],\n",
    "                 'R': ['CGT', 'CGC', 'CGA', 'CGG', 'AGA', 'AGG'],\n",
    "                 'N': ['AAT', 'AAC'],\n",
    "                 'D': ['GAT', 'GAC'],\n",
    "                 'C': ['TGT', 'TGC'],\n",
    "                 'Q': ['CAA', 'CAG'],\n",
    "                 'E': ['GAA', 'GAG'],\n",
    "                 'G': ['GGT', 'GGC', 'GGA', 'GGG'],\n",
    "                 'H': ['CAT', 'CAC'],\n",
    "                 'I': ['ATT', 'ATC', 'ATA'],\n",
    "                 'L': ['TTA', 'TTG', 'CTT', 'CTC', 'CTA', 'CTG'],\n",
    "                 'K': ['AAA', 'AAG'],\n",
    "                 'M': ['ATG'],\n",
    "                 'F': ['TTT', 'TTC'],\n",
    "                 'P': ['CCT', 'CCC', 'CCA', 'CCG'],\n",
    "                 'S': ['TCA', 'TCT', 'TCC', 'TCG', 'AGT', 'AGC'],\n",
    "                 'T': ['ACT', 'ACC', 'ACA', 'ACG'],\n",
    "                 '*': ['TAA', 'TAG', 'TGA'],\n",
    "                 'V': ['GTA', 'GTT', 'GTC', 'GTG'],\n",
    "                 'Y': ['TAT', 'TAC'],\n",
    "                 'W': ['TGG']\n",
    "                }"
   ]
  },
  {
   "cell_type": "markdown",
   "metadata": {},
   "source": [
    "## Guided exercise\n",
    "\n",
    "Determine what amino acid is coded for by a codon\n",
    "\n",
    "First, reformat dictionary so that codons are keys and amino acids are values."
   ]
  },
  {
   "cell_type": "code",
   "execution_count": 21,
   "metadata": {},
   "outputs": [
    {
     "name": "stdout",
     "output_type": "stream",
     "text": [
      "{'GCT': 'A', 'GCC': 'A', 'GCA': 'A', 'GCG': 'A', 'CGT': 'R', 'CGC': 'R', 'CGA': 'R', 'CGG': 'R', 'AGA': 'R', 'AGG': 'R', 'AAT': 'N', 'AAC': 'N', 'GAT': 'D', 'GAC': 'D', 'TGT': 'C', 'TGC': 'C', 'CAA': 'Q', 'CAG': 'Q', 'GAA': 'E', 'GAG': 'E', 'GGT': 'G', 'GGC': 'G', 'GGA': 'G', 'GGG': 'G', 'CAT': 'H', 'CAC': 'H', 'ATT': 'I', 'ATC': 'I', 'ATA': 'I', 'TTA': 'L', 'TTG': 'L', 'CTT': 'L', 'CTC': 'L', 'CTA': 'L', 'CTG': 'L', 'AAA': 'K', 'AAG': 'K', 'ATG': 'M', 'TTT': 'F', 'TTC': 'F', 'CCT': 'P', 'CCC': 'P', 'CCA': 'P', 'CCG': 'P', 'TCA': 'S', 'TCT': 'S', 'TCC': 'S', 'TCG': 'S', 'AGT': 'S', 'AGC': 'S', 'ACT': 'T', 'ACC': 'T', 'ACA': 'T', 'ACG': 'T', 'TAA': '*', 'TAG': '*', 'TGA': '*', 'GTA': 'V', 'GTT': 'V', 'GTC': 'V', 'GTG': 'V', 'TAT': 'Y', 'TAC': 'Y', 'TGG': 'W'}\n"
     ]
    }
   ],
   "source": [
    "codonDict = {}\n",
    "for aa in aaDict:\n",
    "  for codon in aaDict[aa]:\n",
    "    codonDict[codon] = aa\n",
    "print(codonDict)\n"
   ]
  },
  {
   "cell_type": "markdown",
   "metadata": {},
   "source": [
    "Now we can easily look up a codon in the ```codonDict``` dictionary"
   ]
  },
  {
   "cell_type": "code",
   "execution_count": 22,
   "metadata": {},
   "outputs": [
    {
     "name": "stdout",
     "output_type": "stream",
     "text": [
      "L\n"
     ]
    }
   ],
   "source": [
    "print(codonDict['CTA'])"
   ]
  },
  {
   "cell_type": "markdown",
   "metadata": {},
   "source": [
    "This will be useful when characterizing substitutions between codons.\n",
    "\n",
    "For instance, we can determine if the change from one codon to another will be synonymous or nonsynonymous."
   ]
  },
  {
   "cell_type": "code",
   "execution_count": 24,
   "metadata": {},
   "outputs": [
    {
     "name": "stdout",
     "output_type": "stream",
     "text": [
      "synonymous\n"
     ]
    }
   ],
   "source": [
    "def codonSub(codon1,codon2):\n",
    "  subtype = \"\"\n",
    "  if codonDict[codon1] == codonDict[codon2]:\n",
    "    subtype = \"synonymous\"\n",
    "  else:\n",
    "    subtype = \"nonsynonymous\"\n",
    "  return subtype\n",
    "print(codonSub(\"ATT\",\"ATC\"))"
   ]
  },
  {
   "cell_type": "markdown",
   "metadata": {},
   "source": [
    "We can think of codon substitution as one nucleotide change, which will either be a transition or a transversion, so it may be helpful to know which changes are which."
   ]
  },
  {
   "cell_type": "code",
   "execution_count": 15,
   "metadata": {},
   "outputs": [
    {
     "name": "stdout",
     "output_type": "stream",
     "text": [
      "transversion\n"
     ]
    }
   ],
   "source": [
    "def nucSub(nuc1,nuc2):\n",
    "  pyramidine = \"CT\"\n",
    "  purine = \"AG\"\n",
    "  if nuc1 not in \"ATCG\" or nuc2 not in \"ATCG\":\n",
    "    return\n",
    "  elif nuc1 == nuc2:\n",
    "    return\n",
    "  else:\n",
    "    sorted_pair = ''.join(sorted(nuc1+nuc2))\n",
    "    if sorted_pair == pyramidine or sorted_pair == purine:\n",
    "      return \"transition\"\n",
    "    else:\n",
    "      return \"transversion\"\n",
    "\n",
    "print(nucSub(\"C\",\"A\"))"
   ]
  },
  {
   "cell_type": "markdown",
   "metadata": {},
   "source": [
    "## On your own\n",
    "\n",
    "Write a function that that prints out all possible single nucleotide substitution types for a given codon that gives the output as would follow for the codon CTA.\n",
    "\n",
    "```\n",
    "ATA (I) to CTA (L) nonsynonymous transversion\n",
    "CAA (Q) to CTA (L) nonsynonymous transversion\n",
    "TTA (L) to CTA (L) synonymous transition\n",
    "CTT (L) to CTA (L) synonymous transversion\n",
    "CCA (P) to CTA (L) nonsynonymous transition\n",
    "CTC (L) to CTA (L) synonymous transversion\n",
    "GTA (V) to CTA (L) nonsynonymous transversion\n",
    "CGA (R) to CTA (L) nonsynonymous transversion\n",
    "CTG (L) to CTA (L) synonymous transition\n",
    "```\n"
   ]
  },
  {
   "cell_type": "code",
   "execution_count": null,
   "metadata": {},
   "outputs": [],
   "source": []
  }
 ],
 "metadata": {
  "kernelspec": {
   "display_name": "Python 3",
   "language": "python",
   "name": "python3"
  },
  "language_info": {
   "codemirror_mode": {
    "name": "ipython",
    "version": 3
   },
   "file_extension": ".py",
   "mimetype": "text/x-python",
   "name": "python",
   "nbconvert_exporter": "python",
   "pygments_lexer": "ipython3",
   "version": "3.6.8"
  }
 },
 "nbformat": 4,
 "nbformat_minor": 2
}
