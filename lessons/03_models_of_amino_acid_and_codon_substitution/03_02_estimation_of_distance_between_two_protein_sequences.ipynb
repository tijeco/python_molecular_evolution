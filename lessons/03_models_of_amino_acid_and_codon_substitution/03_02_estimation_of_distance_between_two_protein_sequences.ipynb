{
 "cells": [
  {
   "cell_type": "markdown",
   "metadata": {},
   "source": [
    "# Module 3, Lesson 2: Estimation of distance between two protein sequences\n",
    "\n",
    "## Poisson model\n",
    "\n",
    "Equation 2.3\n",
    "$$ \\hat{t} = - \\frac{19}{20} log(1 - \\frac{19}{20}\\hat{p})$$\n",
    "\n",
    "Gamma distance\n",
    "\n",
    "$$ \\hat{t} = \\frac{19}{20} \\alpha[ (1 - \\frac{20}{19}\\hat{p})^{-1/\\alpha}]$$\n",
    "\n",
    "\n"
   ]
  },
  {
   "cell_type": "markdown",
   "metadata": {},
   "source": [
    "## Guided exercise\n",
    "\n",
    "Calculate the distance between human and chimp cytochrome oxidase 1 (COX1)\n"
   ]
  },
  {
   "cell_type": "code",
   "execution_count": 21,
   "metadata": {},
   "outputs": [
    {
     "name": "stdout",
     "output_type": "stream",
     "text": [
      "0.01061463556821893\n",
      "0.011695906432748537\n",
      "0.486915498256355\n"
     ]
    }
   ],
   "source": [
    "from Bio import SeqIO\n",
    "import pandas as pd\n",
    "import numpy as np\n",
    "\n",
    "\n",
    "in_seq_handle = open(\"../../data/mitoPep/cytochrome1.pep.aln.trimmed\")\n",
    "seq_dict = SeqIO.to_dict(SeqIO.parse(in_seq_handle, \"fasta\"))\n",
    "in_seq_handle.close()\n",
    "\n",
    "human_co1 = seq_dict[\"human\"].seq\n",
    "chimp_co1 = seq_dict[\"chimp\"].seq\n",
    "def p_hat(s1,s2):\n",
    "    n = 0\n",
    "    x = len(s1)\n",
    "    for i in range(len(s1)):\n",
    "        if s1[i] != s2[i]:\n",
    "            n += 1\n",
    "    return n/x\n",
    "def poisson_dist(s1,s2):\n",
    "    p = p_hat(s1,s2)\n",
    "    \n",
    "    return - (19/20) * np.log(1 - (19/20)*p)\n",
    "\n",
    "def poisson_gamma(s1,s2,alpha):\n",
    "    p = p_hat(s1,s2)\n",
    "    return (19/20) * alpha * ((1 - (20/19)*p)**(-1/alpha))\n",
    "        \n",
    "\n",
    "print(poisson_dist(human_co1,chimp_co1))\n",
    "print(p_hat(human_co1,chimp_co1))\n",
    "print(poisson_gamma(human_co1,chimp_co1,0.5))\n"
   ]
  },
  {
   "cell_type": "markdown",
   "metadata": {},
   "source": [
    "## On your own\n",
    "\n",
    "Calculate the distance between the remaining 12 mitochondrial proteins between humans and chimps to determine the average, and standard deviation values."
   ]
  },
  {
   "cell_type": "code",
   "execution_count": null,
   "metadata": {},
   "outputs": [],
   "source": []
  }
 ],
 "metadata": {
  "kernelspec": {
   "display_name": "Python 3",
   "language": "python",
   "name": "python3"
  },
  "language_info": {
   "codemirror_mode": {
    "name": "ipython",
    "version": 3
   },
   "file_extension": ".py",
   "mimetype": "text/x-python",
   "name": "python",
   "nbconvert_exporter": "python",
   "pygments_lexer": "ipython3",
   "version": "3.6.8"
  }
 },
 "nbformat": 4,
 "nbformat_minor": 2
}
