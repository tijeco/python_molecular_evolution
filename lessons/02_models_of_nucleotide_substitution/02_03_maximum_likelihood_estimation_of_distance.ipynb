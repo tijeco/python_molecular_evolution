{
 "cells": [
  {
   "cell_type": "markdown",
   "metadata": {},
   "source": [
    "# Module 2, Lesson 3: Maximum likelihood estimation of distance\n",
    "\n",
    "# To be covered in slides\n",
    "* Probability vs likelihood\n",
    "\n",
    "\n",
    "## JC69 model\n",
    "\n",
    "\n",
    "\n",
    "Log-likelihood\n",
    "\n",
    "$$ \\ell(d;x) = x log(\\frac{1}{16} - \\frac{1}{16}e^{\\frac{-4d}{3}}) + (n-x)og(\\frac{1}{16} + \\frac{3}{16}e^{\\frac{-4d}{3}})$$"
   ]
  },
  {
   "cell_type": "code",
   "execution_count": null,
   "metadata": {},
   "outputs": [],
   "source": [
    "import numpy as np\n",
    "def logLikliehood_JC69(d,n,x):\n",
    "    return x * np.log((1/16) - (1/16) * np.exp((-4*d)/3) + (n-x) * np.log((1/16) + (3/16) * np.exp((-4*d)/3)\n"
   ]
  },
  {
   "cell_type": "markdown",
   "metadata": {},
   "source": [
    "##  K80 model\n",
    "\n",
    "$$ \\ell(d,\\kappa;n_S,n_V) = (n - n_S - n_V) log(\\frac{p_0}{4}) + n_S log(\\frac{p_1}{4}) + n_V log(\\frac{p_2}{4})$$"
   ]
  },
  {
   "cell_type": "code",
   "execution_count": null,
   "metadata": {},
   "outputs": [],
   "source": [
    "def logLikliehood_K80(d,k,n,ns,nv,p0,p1,p2):\n",
    "    return (n - ns - nv) * np.log(p0/4) + ns*np.log(p1/4) + nvlog(p2/4)\n",
    "\n",
    "# calculate liklihood of 12s rRNA for K80"
   ]
  },
  {
   "cell_type": "markdown",
   "metadata": {},
   "source": [
    "## Likelihood ratio test of substitution models\n",
    "\n",
    "\n",
    "\n",
    "$$ 2\\Delta \\ell = 2(\\ell_1 - \\ell_0)$$"
   ]
  },
  {
   "cell_type": "code",
   "execution_count": null,
   "metadata": {},
   "outputs": [],
   "source": [
    "from scipy import stats\n",
    "def lrt(l0,l1):\n",
    "    chisq =  2 *(l1 - l0)\n",
    "    \n",
    "    return 1 - stats.chi2.cdf(chisq, 1)\n",
    "\n",
    "\n",
    "# calculate liklihood ratio test of 12s rRNA for JC69 and K80"
   ]
  }
 ],
 "metadata": {
  "kernelspec": {
   "display_name": "Python 3",
   "language": "python",
   "name": "python3"
  },
  "language_info": {
   "codemirror_mode": {
    "name": "ipython",
    "version": 3
   },
   "file_extension": ".py",
   "mimetype": "text/x-python",
   "name": "python",
   "nbconvert_exporter": "python",
   "pygments_lexer": "ipython3",
   "version": "3.6.8"
  }
 },
 "nbformat": 4,
 "nbformat_minor": 2
}
