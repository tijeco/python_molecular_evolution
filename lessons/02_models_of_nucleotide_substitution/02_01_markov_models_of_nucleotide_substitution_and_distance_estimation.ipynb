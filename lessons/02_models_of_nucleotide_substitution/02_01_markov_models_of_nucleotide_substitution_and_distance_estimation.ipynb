{
 "cells": [
  {
   "cell_type": "markdown",
   "metadata": {},
   "source": [
    "# Module 2, Lesson 1: Markov models of nucleotide substitution and distance estimation\n",
    "\n",
    "\n",
    "\n",
    "## JC69 model\n",
    "\n",
    "\n",
    "substitution rate matrix\n",
    "\n",
    "$$ Q = \\{q_{ij}\\}= \\begin{bmatrix} -3\\lambda &\\lambda& \\lambda &\\lambda \\\\ \\lambda& -3\\lambda& \\lambda& \\lambda \\\\ \\lambda& \\lambda& -3\\lambda& \\lambda \\\\ \\lambda& \\lambda& \\lambda& -3\\lambda\\end{bmatrix}$$\n",
    "\n",
    "matrix of transition probabilities\n",
    "\n",
    "$$ P(t) = e^{Qt} = \\begin{bmatrix} p_0(t)& p_1(t)& p_1(t) &p_1(t) \\\\ p_1(t)& p_0(t)& p_1(t)& p_1(t) \\\\ p_1(t)& p_1(t)& p_0(t)& p_1(t) \\\\ p_1(t)& p_1(t)& p_1(t)& p_0(t)\\end{bmatrix}$$\n",
    "\n",
    "$$ p_0(t) = \\frac{1}{4} + \\frac{3}{4}e^{-4\\lambda t} $$\n",
    "$$ p_1(t) = \\frac{1}{4} - \\frac{1}{4}e^{-4\\lambda t} $$"
   ]
  },
  {
   "cell_type": "code",
   "execution_count": 50,
   "metadata": {},
   "outputs": [
    {
     "data": {
      "text/plain": [
       "[<matplotlib.lines.Line2D at 0x1221371d0>]"
      ]
     },
     "execution_count": 50,
     "metadata": {},
     "output_type": "execute_result"
    },
    {
     "data": {
      "image/png": "[encoded data removed]",
      "text/plain": [
       "<Figure size 432x288 with 1 Axes>"
      ]
     },
     "metadata": {
      "needs_background": "light"
     },
     "output_type": "display_data"
    }
   ],
   "source": [
    "%matplotlib inline\n",
    "import matplotlib.pyplot as plt\n",
    "import numpy as np\n",
    "def p_noChange(l, t): # p0\n",
    "    return (1/4) + (3/4)*np.exp(-4 * l * t)\n",
    "\n",
    "def p_change(l, t): # p1\n",
    "    return (1/4) - (1/4)*np.exp(-4 * l * t)\n",
    "\n",
    "l = 1e-5\n",
    "t = np.array(range(100000))\n",
    "d = 3 * l * t\n",
    "\n",
    "p0 = p_noChange(l,t)\n",
    "p1 = p_change(l,t)\n",
    "# print(p0)\n",
    "# print(p_noChange(l,10))\n",
    "plt.plot(t,p0)\n",
    "plt.plot(t,p1)\n",
    "plt.plot(t,[0.25]*len(t),\"k--\")\n",
    "# print(p_noChange(l,t))\n",
    "# print(d)\n",
    "\n",
    "\n",
    "\n",
    "# plot p0 and p1"
   ]
  },
  {
   "cell_type": "markdown",
   "metadata": {},
   "source": [
    "$$ p(d) = 3p_i(t) = \\frac{3}{4} - \\frac{3}{4}e^\\frac{-4d}{3}$$\n",
    "\n",
    "$$ \\hat{d} = - \\frac{3}{4} log(1 - \\frac{4}{3}\\hat{p})$$\n",
    "\n",
    "## Guided exercise\n",
    "\n",
    "Calculate distance between Human and orangutan 12s rRNA genes.\n",
    "\n",
    "* Human (D38112)\n",
    "* Orangutan (NC_001646)\n",
    "\n",
    "Aligned and gaps removed leaving pairwise alignment (to be covered in module 4) with 954 sites, with six alignment gaps leaving an alignment with 948 sites.\n",
    "\n",
    "\n",
    "Summarize sequences"
   ]
  },
  {
   "cell_type": "code",
   "execution_count": 63,
   "metadata": {},
   "outputs": [],
   "source": [
    "human_12s = \"\"\"AATAGGTTTGGTCCTAGCCTTTCTATTAGCTCTTAGTAAGATTACACATGCAAGCATCCC\n",
    "CGTTCCAGTGAGTCACCCTCTAAATCACCACGATCAAAAGGGACAAGCATCAAGCACGCA\n",
    "ACAATGCAGCTCAAAACGCTTAGCCTAGCCACACCCCCACGGGAAACAGCAGTGATAAAC\n",
    "CTTTAGCAATAAACGAAAGTTTAACTAAGCTATACTAACCCCAGGGTTGGTCAATTTCGT\n",
    "GCCAGCCACCGCGGTCACACGATTAACCCAAGTCAATAGAAGCCGGCGTAAAGAGTGTTT\n",
    "TAGATTCCCCAATAAAGCTAAAACTCACCTGAGTTGTAAAAAACTCCAGTTGACACAAAA\n",
    "TAAACTACGAAAGTGGCTTTAACATATCTGAATACACAATAGCTAAGACCCAAACTGGGA\n",
    "TTAGATACCCCACTATGCTTAGCCCTAAACCTCAACAGTTAAATCAACAAAACTGCTCGC\n",
    "CAGAACACTACGAGCCACAGCTTAAAACTCAAAGGACCTGGCGGTGCTTCATATCCCTCT\n",
    "AGAGGAGCCTGTTCTGTAATCGATAAACCCCGATCAACCTCACCACCTCTTGCTCAGCCT\n",
    "ATATACCGCCATCTTCAGCAAACCCTGATGAAGGCTACAAAGTAAGCGCAAGTACCCACG\n",
    "TAAAGACGTTAGGTCAAGGTGTAGCCCATGAGGTGGCAAGAAATGGGCTACATTTTCTAC\n",
    "CCCAGAAAACTACGATAGCCCTTATGAAACTTAAGGGTCGAAGGTGGATTTAGCAGTAAA\n",
    "CTGAGAGTAGAGTGCTTAGTTGAACAGGGCCCTGAAGCGCGTACACACCGCCCGTCACCC\n",
    "TCCTCAAGTATACTTCAAGGACATTTAACTAAAACCCCTACGCATTTATATAGAGGAGAC\n",
    "AAGTCGTAACATGGTAAGTGTACTGGAAAGTGCACTTGGACGAAC\"\"\"\n",
    "orangutan_12s = \"\"\"AACAGGTTTGGTCCTAGCCTTTCTATTAGCCCTTAGTGAGATTACACATGCAAGCATCCC\n",
    "CGCCCCAGTGAGTCGCCCTCCAAGCCACTCTGACTAAGAGGAACAAGCATCAAGCACGCA\n",
    "ACAACGCAGCTCAAGACGCTTAGCCTAGCCACACCCCCACGGGAGACAGCAGTGACAAAT\n",
    "CTTTAGCAATGAACGAAAGTTCAACTAAGCTACACTAGCCACAGGGCTGGTCAACTTCGT\n",
    "GCCAGCCACCGCGGTCACACGATTAGCCCAAGTTAATAGAGATCGGCGTAGAGAGTGTTT\n",
    "TAGATTCCCCAATAAAGCTAAAATTTACCTGAGTTGTAGAAAACTTAAGTTAATACAAAA\n",
    "TAAACTACGAAAGTGGCTTTAATATATCTGAACACACAATAGCTAAGACCCAAACTGGGA\n",
    "TTAGATACCCCACTATGCTTAGCCCTAAACTTTAACAGTTGAATCAACAAAACTGCTCGC\n",
    "CAGAACACTACGAGCCACAGCTTAAAACTCAAAGGACCTGGCGGTGCTTCATACCCCCCT\n",
    "AGAGGAGCCTGTTCTGTAATCGATAAACCCCGATCAACCTCACCACCCCTTGCTCAGCCT\n",
    "ATATACCGCCATCTTCAGCAAACCCTGATGAAGGCCACGAAGTAAGCGCAAACACCCACG\n",
    "TAAAGACGTTAGGTCAAGGTGTAGCCCATGGAGTGGCAAGAAATGGGCTACATTTTCTAC\n",
    "TTCAGAAAACTACGATAACCCTCATGAAATTTGAAGGTCGAAGGTGGATTTAGCAGTAAA\n",
    "CTAAGAGTAGAGTGCTTAGTTGAACAAGGCCCTGAAGCGCGTACACACCGCCCGTCACCC\n",
    "TCTTCAAGTATATTTCAGGGACACCTAACTAAAACCCCCACGCATCTATATAGAAGAGGC\n",
    "AAGTCGTAACATGGTAAGCGTACTGGAAAGTGCGCTTGGACGAAC\"\"\"\n",
    "\n",
    "def calcDistMat(s1,s2):\n",
    "\n",
    "  return count_df\n"
   ]
  },
  {
   "cell_type": "markdown",
   "metadata": {},
   "source": [
    "Calculate distance between them"
   ]
  },
  {
   "cell_type": "code",
   "execution_count": 68,
   "metadata": {},
   "outputs": [
    {
     "name": "stdout",
     "output_type": "stream",
     "text": [
      "960\n",
      "75\n",
      "0.08250067141074635\n"
     ]
    }
   ],
   "source": [
    "def num_diff(s1,s2):\n",
    "  x = 0\n",
    "  if len(s1) != len(s2):\n",
    "    return\n",
    "  else:\n",
    "    for i in range(len(s1)):\n",
    "      if s1[i] != s2[i]:\n",
    "        x += 1\n",
    "  return x\n",
    "\n",
    "def jc69dist(s1,s2):\n",
    "  x = num_diff(s1,s2)\n",
    "  p_hat = x / len(s1)\n",
    "  return -(3/4) * np.log(1 - (4/3)*p_hat)\n",
    "\n",
    "print(len(human_12s))\n",
    "print(num_diff(human_12s,orangutan_12s))\n",
    "print(jc69dist(human_12s,orangutan_12s))\n",
    "\n"
   ]
  },
  {
   "cell_type": "markdown",
   "metadata": {},
   "source": [
    "## K80 model\n",
    "\n",
    "**Transversions** are substitutions between two pyrimidines or two purines (C$\\leftrightarrow$T) and (A$\\leftrightarrow$G), **transitions** are substitutions from purine to pyrimidine and vice versa (C,T$\\leftrightarrow$A,G). Let substitution rates be $\\alpha$ for transitions and $\\beta$ for transversions, gives the rate matrix (T,C,A,G).\n",
    "\n",
    "$$ Q = \\begin{bmatrix} -(\\alpha + 2\\beta) & \\alpha & \\beta & \\beta \\\\ \\alpha &  -(\\alpha + 2\\beta) & \\beta & \\beta \\\\ \\beta & \\beta &  -(\\alpha + 2\\beta) & \\alpha \\\\ \\beta & \\beta & \\alpha &  -(\\alpha + 2\\beta) \\end{bmatrix}$$\n",
    "\n",
    "\n",
    "The distance between two sequences can be calculated using.\n",
    "\n",
    "$$ \\hat{d} = -log(1-2S-V) -\\frac{1}{4}log(1 - 2V)$$\n",
    "\n",
    "Where the observed  proportion of sites with transitions is $S$ and transversions is $V$ \n",
    "\n",
    "\n",
    "## On your own\n",
    "\n",
    "Write two functions that calculate the number of transition and transversions between two sequences.\n",
    "\n",
    "Write a function that calculates the distance between human aand orangutan 12s using the above distance equation for K80"
   ]
  },
  {
   "cell_type": "code",
   "execution_count": null,
   "metadata": {},
   "outputs": [],
   "source": [
    "\n",
    "# calculate distance between human and orangutan 12s rRNA genes"
   ]
  },
  {
   "cell_type": "markdown",
   "metadata": {},
   "source": [
    "## TN93 model\n",
    "\n",
    "$$ Q = \\begin{bmatrix} -(\\alpha_1\\pi_C + \\beta \\pi_R) & \\alpha_1 \\pi_C & \\beta \\pi_A & \\beta \\pi_G   \\\\ \\alpha_1\\pi_T & -(\\alpha_1\\pi_T + \\beta \\pi_R) &  \\beta \\pi_A & \\beta \\pi_G \\\\ \\beta\\pi_T & \\beta\\pi_C &  -(\\alpha_2\\pi_G + \\beta \\pi_Y) &\\alpha_2\\pi_G \\\\ \\beta\\pi_T & \\beta\\pi_C & \\alpha_2\\pi_A & -(\\alpha_2\\pi_A + \\beta \\pi_Y) \\end{bmatrix}$$\n",
    "\n"
   ]
  },
  {
   "cell_type": "code",
   "execution_count": null,
   "metadata": {},
   "outputs": [],
   "source": [
    "\n",
    "# calculate distance between human and orangutan 12s rRNA genes"
   ]
  }
 ],
 "metadata": {
  "kernelspec": {
   "display_name": "Python 3",
   "language": "python",
   "name": "python3"
  },
  "language_info": {
   "codemirror_mode": {
    "name": "ipython",
    "version": 3
   },
   "file_extension": ".py",
   "mimetype": "text/x-python",
   "name": "python",
   "nbconvert_exporter": "python",
   "pygments_lexer": "ipython3",
   "version": "3.6.8"
  }
 },
 "nbformat": 4,
 "nbformat_minor": 2
}
