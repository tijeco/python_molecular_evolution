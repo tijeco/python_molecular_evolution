{
 "cells": [
  {
   "cell_type": "markdown",
   "metadata": {},
   "source": [
    "# Module 2, Lesson 2: Variable substitution rates across sites\n",
    "\n",
    "## gamma distances\n",
    "\n",
    "\n",
    "\n",
    "$$ g( r; \\alpha, \\beta) = \\frac{\\beta^{\\alpha}}{\\Gamma(\\alpha)}e^{-\\beta r}r^{\\alpha - 1}, r>0$$\n",
    "\n",
    "$$ \\Gamma(n) = (n-1)! $$"
   ]
  },
  {
   "cell_type": "code",
   "execution_count": null,
   "metadata": {},
   "outputs": [],
   "source": [
    "# plot gamma alpha = 20,0.2,2,1"
   ]
  },
  {
   "cell_type": "markdown",
   "metadata": {},
   "source": [
    "## JC-69+  $\\Gamma$\n",
    "\n",
    "$$ \\hat{d} = \\frac{3}{4}\\alpha[(1 - \\frac{4}{3}\\hat{p})^{\\frac{-2}{\\alpha - 2}}] $$"
   ]
  },
  {
   "cell_type": "code",
   "execution_count": 1,
   "metadata": {},
   "outputs": [],
   "source": [
    "def num_diff(s1,s2):\n",
    "  x = 0\n",
    "  if len(s1) != len(s2):\n",
    "    return\n",
    "  else:\n",
    "    for i in range(len(s1)):\n",
    "      if s1[i] != s2[i]:\n",
    "        x += 1\n",
    "  return x\n",
    "\n",
    "def jc69dist_gamma(s1,s2,alpha):\n",
    "  x = num_diff(s1,s2)\n",
    "  p_hat = x / len(s1)\n",
    "  return (3/4) * alpha (1 - (4/3)*p_hat)**(-2/(alpha-2))\n",
    "# calculate distance between human and orangutan 1s rRNA genes"
   ]
  },
  {
   "cell_type": "markdown",
   "metadata": {},
   "source": [
    "## On your own\n",
    "\n",
    "Compare the difference between distance calculated between ```jc69dist```and ```jc69dist_gamma```"
   ]
  }
 ],
 "metadata": {
  "kernelspec": {
   "display_name": "Python 3",
   "language": "python",
   "name": "python3"
  },
  "language_info": {
   "codemirror_mode": {
    "name": "ipython",
    "version": 3
   },
   "file_extension": ".py",
   "mimetype": "text/x-python",
   "name": "python",
   "nbconvert_exporter": "python",
   "pygments_lexer": "ipython3",
   "version": "3.6.8"
  }
 },
 "nbformat": 4,
 "nbformat_minor": 2
}
